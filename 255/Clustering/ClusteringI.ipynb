{
  "nbformat": 4,
  "nbformat_minor": 0,
  "metadata": {
    "colab": {
      "provenance": []
    },
    "kernelspec": {
      "name": "python3",
      "display_name": "Python 3"
    },
    "language_info": {
      "name": "python"
    }
  },
  "cells": [
    {
      "cell_type": "code",
      "execution_count": 3,
      "metadata": {
        "colab": {
          "base_uri": "https://localhost:8080/"
        },
        "id": "ou9D5wiAqBS_",
        "outputId": "b6739ba5-3ef6-45cf-9ed0-5238d5d06a0a"
      },
      "outputs": [
        {
          "output_type": "stream",
          "name": "stdout",
          "text": [
            "Reading package lists... Done\n",
            "Building dependency tree... Done\n",
            "Reading state information... Done\n",
            "ffmpeg is already the newest version (7:4.4.2-0ubuntu0.22.04.1).\n",
            "0 upgraded, 0 newly installed, 0 to remove and 49 not upgraded.\n",
            "Requirement already satisfied: eyed3 in /usr/local/lib/python3.10/dist-packages (0.9.7)\n",
            "Requirement already satisfied: coverage<6.0.0,>=5.3.1 in /usr/local/lib/python3.10/dist-packages (from coverage[toml]<6.0.0,>=5.3.1->eyed3) (5.5)\n",
            "Requirement already satisfied: deprecation<3.0.0,>=2.1.0 in /usr/local/lib/python3.10/dist-packages (from eyed3) (2.1.0)\n",
            "Requirement already satisfied: filetype<2.0.0,>=1.0.7 in /usr/local/lib/python3.10/dist-packages (from eyed3) (1.2.0)\n",
            "Requirement already satisfied: toml in /usr/local/lib/python3.10/dist-packages (from coverage[toml]<6.0.0,>=5.3.1->eyed3) (0.10.2)\n",
            "Requirement already satisfied: packaging in /usr/local/lib/python3.10/dist-packages (from deprecation<3.0.0,>=2.1.0->eyed3) (24.2)\n",
            "Requirement already satisfied: pydub in /usr/local/lib/python3.10/dist-packages (0.25.1)\n",
            "Requirement already satisfied: pyAudioAnalysis in /usr/local/lib/python3.10/dist-packages (0.3.14)\n"
          ]
        }
      ],
      "source": [
        "!apt install -y ffmpeg\n",
        "!pip install eyed3\n",
        "!pip install pydub\n",
        "!pip install pyAudioAnalysis\n",
        "\n",
        "import os\n",
        "import tensorflow as tf\n",
        "import numpy as np\n",
        "import pandas as pd\n",
        "from pyAudioAnalysis import audioBasicIO\n",
        "from pyAudioAnalysis import ShortTermFeatures\n",
        "import matplotlib.pyplot as plt"
      ]
    },
    {
      "cell_type": "code",
      "source": [
        "def preProcess(fileName):\n",
        "    # Extracting wav file data using read_audio_file\n",
        "    [Fs, x] = audioBasicIO.read_audio_file(fileName)\n",
        "\n",
        "    # If double channel data then take the mean\n",
        "    if len(x.shape) > 1 and x.shape[1] == 2:\n",
        "        x = np.mean(x, axis=1, keepdims=True)\n",
        "    else:\n",
        "        x = x.reshape(x.shape[0], 1)\n",
        "\n",
        "    # Extract the raw chromagram data; expected dimension is [m, ] not [m, 1]\n",
        "    F, f_names = ShortTermFeatures.feature_extraction(\n",
        "        x[:, 0],\n",
        "        Fs, 0.050 * Fs,\n",
        "        0.025 * Fs\n",
        "    )\n",
        "\n",
        "    return (f_names, F)\n",
        "\n",
        "# Example usage\n",
        "file_name = \"/content/1kHz_44100Hz_16bit_05sec.wav\"\n",
        "feature_name, features = preProcess(file_name)\n",
        "\n",
        "# Print feature names and shape of features\n",
        "print(\"Feature Names:\", feature_name)\n",
        "print(\"Features Shape:\", features.shape)\n"
      ],
      "metadata": {
        "colab": {
          "base_uri": "https://localhost:8080/"
        },
        "id": "-yVBBVghvYjs",
        "outputId": "62df1e12-c91f-4493-a62e-40abb83b99ad"
      },
      "execution_count": 12,
      "outputs": [
        {
          "output_type": "stream",
          "name": "stdout",
          "text": [
            "Feature Names: ['zcr', 'energy', 'energy_entropy', 'spectral_centroid', 'spectral_spread', 'spectral_entropy', 'spectral_flux', 'spectral_rolloff', 'mfcc_1', 'mfcc_2', 'mfcc_3', 'mfcc_4', 'mfcc_5', 'mfcc_6', 'mfcc_7', 'mfcc_8', 'mfcc_9', 'mfcc_10', 'mfcc_11', 'mfcc_12', 'mfcc_13', 'chroma_1', 'chroma_2', 'chroma_3', 'chroma_4', 'chroma_5', 'chroma_6', 'chroma_7', 'chroma_8', 'chroma_9', 'chroma_10', 'chroma_11', 'chroma_12', 'chroma_std', 'delta zcr', 'delta energy', 'delta energy_entropy', 'delta spectral_centroid', 'delta spectral_spread', 'delta spectral_entropy', 'delta spectral_flux', 'delta spectral_rolloff', 'delta mfcc_1', 'delta mfcc_2', 'delta mfcc_3', 'delta mfcc_4', 'delta mfcc_5', 'delta mfcc_6', 'delta mfcc_7', 'delta mfcc_8', 'delta mfcc_9', 'delta mfcc_10', 'delta mfcc_11', 'delta mfcc_12', 'delta mfcc_13', 'delta chroma_1', 'delta chroma_2', 'delta chroma_3', 'delta chroma_4', 'delta chroma_5', 'delta chroma_6', 'delta chroma_7', 'delta chroma_8', 'delta chroma_9', 'delta chroma_10', 'delta chroma_11', 'delta chroma_12', 'delta chroma_std']\n",
            "Features Shape: (68, 199)\n"
          ]
        }
      ]
    },
    {
      "cell_type": "code",
      "source": [
        "def getChromagram( audioData ):\n",
        "    # chronograph_1\n",
        "    temp_data =  audioData[ 21 ].reshape( 1, audioData[ 21 ].shape[0] )\n",
        "    chronograph = temp_data\n",
        "\n",
        "    # looping through the next 11 stacking them vertically\n",
        "    for i in range( 22, 33 ):\n",
        "        temp_data =  audioData[ i ].reshape( 1, audioData[ i ].shape[0] )\n",
        "        chronograph = np.vstack( [ chronograph,  temp_data ] )\n",
        "\n",
        "    return chronograph"
      ],
      "metadata": {
        "id": "RlUwMuwJvabc"
      },
      "execution_count": 5,
      "outputs": []
    },
    {
      "cell_type": "code",
      "source": [
        "def getNoteFrequency( chromagram ):\n",
        "\n",
        "    # Total number of time frames in the current sample\n",
        "    numberOfWindows = chromagram.shape[1]\n",
        "\n",
        "    # Taking the note with the highest amplitude\n",
        "    freqVal = chromagram.argmax( axis = 0 )\n",
        "\n",
        "    # Converting the freqVal vs time to freq count\n",
        "    histogram, bin = np.histogram( freqVal, bins = 12 )\n",
        "\n",
        "    # Normalizing the distribution by the number of time frames\n",
        "    normalized_hist = histogram.reshape( 1, 12 ).astype( float ) / numberOfWindows\n",
        "\n",
        "    return normalized_hist"
      ],
      "metadata": {
        "id": "Oinl6PV0vcsk"
      },
      "execution_count": 6,
      "outputs": []
    },
    {
      "cell_type": "code",
      "source": [
        "def plotHeatmap( chromagraph, smallSample = True ):\n",
        "\n",
        "    notesLabels = [ \"G#\", \"G\", \"F#\", \"F\", \"E\", \"D#\", \"D\", \"C#\", \"C\", \"B\", \"A#\", \"A\" ]\n",
        "\n",
        "    fig, axis = plt.subplots()\n",
        "\n",
        "    if smallSample:\n",
        "        im = axis.imshow( chromagram[ :, 0 : 25 ], cmap = \"YlGn\" )\n",
        "    else:\n",
        "        im = axis.imshow( chromagram )\n",
        "\n",
        "    cbar = axis.figure.colorbar(im, ax = axis,  cmap = \"YlGn\")\n",
        "    cbar.ax.set_ylabel(\"Amplitude\", rotation=-90, va=\"bottom\")\n",
        "\n",
        "    axis.set_yticks( np.arange( len(notesLabels) ) )\n",
        "    axis.set_yticklabels(notesLabels)\n",
        "\n",
        "    axis.set_title( \"chromagram\" )\n",
        "\n",
        "    fig.tight_layout()\n",
        "    _ = plt.show()"
      ],
      "metadata": {
        "id": "4H3hBxUhvebc"
      },
      "execution_count": 7,
      "outputs": []
    },
    {
      "cell_type": "code",
      "source": [
        "def noteFrequencyPlot( noteFrequency, smallSample = True ):\n",
        "\n",
        "    fig, axis = plt.subplots(1, 1, sharey=True )\n",
        "\n",
        "    axis.plot( np.arange( 1, 13 ), noteFrequency[0, :] )\n",
        "\n",
        "    _ = plt.show()"
      ],
      "metadata": {
        "id": "lLBLLTdzvfE9"
      },
      "execution_count": 8,
      "outputs": []
    },
    {
      "cell_type": "code",
      "source": [
        "fileList = []\n",
        "\n",
        "def getDataset(filePath):\n",
        "    # Initialize an empty list to store rows of the DataFrame\n",
        "    data_rows = []\n",
        "    columns = [\"G#\", \"G\", \"F#\", \"F\", \"E\", \"D#\", \"D\", \"C#\", \"C\", \"B\", \"A#\", \"A\"]\n",
        "\n",
        "    for root, dirs, filenames in os.walk(filePath):\n",
        "        for file in filenames:\n",
        "            fileList.append(file)\n",
        "\n",
        "            # Preprocess the file\n",
        "            feature_name, features = preProcess(os.path.join(filePath, file))\n",
        "\n",
        "            # Get the chromagram and note frequency\n",
        "            chromagram = getChromagram(features)\n",
        "            noteFrequency = getNoteFrequency(chromagram)\n",
        "\n",
        "            # Append the note frequency to the data rows\n",
        "            data_rows.append(noteFrequency[0, :])\n",
        "\n",
        "    # Create the DataFrame from collected rows\n",
        "    data = pd.DataFrame(data_rows, columns=columns)\n",
        "\n",
        "    return data\n",
        "\n",
        "\n"
      ],
      "metadata": {
        "id": "36_YnqPMvgxs"
      },
      "execution_count": 17,
      "outputs": []
    },
    {
      "cell_type": "code",
      "source": [
        "feature_name, features = preProcess( \"/content/1kHz_44100Hz_16bit_05sec.wav\" )\n"
      ],
      "metadata": {
        "id": "ZR1xFEFRv0PE"
      },
      "execution_count": 13,
      "outputs": []
    },
    {
      "cell_type": "code",
      "source": [
        "chromagram = getChromagram( features )\n",
        "plotHeatmap( chromagram )"
      ],
      "metadata": {
        "colab": {
          "base_uri": "https://localhost:8080/",
          "height": 486
        },
        "id": "Fp8wSZNaxz0O",
        "outputId": "3ed26577-7895-42ce-eff9-70078a196689"
      },
      "execution_count": 14,
      "outputs": [
        {
          "output_type": "display_data",
          "data": {
            "text/plain": [
              "<Figure size 640x480 with 2 Axes>"
            ],
            "image/png": "[encoded data removed]"
          },
          "metadata": {}
        }
      ]
    },
    {
      "cell_type": "code",
      "source": [
        "noteFrequency = getNoteFrequency( chromagram )\n",
        "noteFrequencyPlot( noteFrequency )"
      ],
      "metadata": {
        "colab": {
          "base_uri": "https://localhost:8080/",
          "height": 430
        },
        "id": "bOjXrCOVx1iM",
        "outputId": "5ea7b508-1dc9-49a2-efdb-05d86aca0b6f"
      },
      "execution_count": 15,
      "outputs": [
        {
          "output_type": "display_data",
          "data": {
            "text/plain": [
              "<Figure size 640x480 with 1 Axes>"
            ],
            "image/png": "[encoded data removed]"
          },
          "metadata": {}
        }
      ]
    },
    {
      "cell_type": "code",
      "source": [
        "data = getDataset( \"/content/1kHz_44100Hz_16bit_05sec.wav\" )\n"
      ],
      "metadata": {
        "id": "wESGAcqrx2Ws"
      },
      "execution_count": 18,
      "outputs": []
    },
    {
      "cell_type": "code",
      "source": [
        "data\n"
      ],
      "metadata": {
        "colab": {
          "base_uri": "https://localhost:8080/",
          "height": 89
        },
        "id": "JcddNW3DyFsm",
        "outputId": "6ba1329c-d59b-4e86-aa13-329a91ef2fd7"
      },
      "execution_count": 19,
      "outputs": [
        {
          "output_type": "execute_result",
          "data": {
            "text/plain": [
              "Empty DataFrame\n",
              "Columns: [G#, G, F#, F, E, D#, D, C#, C, B, A#, A]\n",
              "Index: []"
            ],
            "text/html": [
              "\n",
              "  <div id=\"df-ee119a3b-8670-4156-8c02-de3aa3135606\" class=\"colab-df-container\">\n",
              "    <div>\n",
              "<style scoped>\n",
              "    .dataframe tbody tr th:only-of-type {\n",
              "        vertical-align: middle;\n",
              "    }\n",
              "\n",
              "    .dataframe tbody tr th {\n",
              "        vertical-align: top;\n",
              "    }\n",
              "\n",
              "    .dataframe thead th {\n",
              "        text-align: right;\n",
              "    }\n",
              "</style>\n",
              "<table border=\"1\" class=\"dataframe\">\n",
              "  <thead>\n",
              "    <tr style=\"text-align: right;\">\n",
              "      <th></th>\n",
              "      <th>G#</th>\n",
              "      <th>G</th>\n",
              "      <th>F#</th>\n",
              "      <th>F</th>\n",
              "      <th>E</th>\n",
              "      <th>D#</th>\n",
              "      <th>D</th>\n",
              "      <th>C#</th>\n",
              "      <th>C</th>\n",
              "      <th>B</th>\n",
              "      <th>A#</th>\n",
              "      <th>A</th>\n",
              "    </tr>\n",
              "  </thead>\n",
              "  <tbody>\n",
              "  </tbody>\n",
              "</table>\n",
              "</div>\n",
              "    <div class=\"colab-df-buttons\">\n",
              "\n",
              "  <div class=\"colab-df-container\">\n",
              "    <button class=\"colab-df-convert\" onclick=\"convertToInteractive('df-ee119a3b-8670-4156-8c02-de3aa3135606')\"\n",
              "            title=\"Convert this dataframe to an interactive table.\"\n",
              "            style=\"display:none;\">\n",
              "\n",
              "  <svg xmlns=\"http://www.w3.org/2000/svg\" height=\"24px\" viewBox=\"0 -960 960 960\">\n",
              "    <path d=\"M120-120v-720h720v720H120Zm60-500h600v-160H180v160Zm220 220h160v-160H400v160Zm0 220h160v-160H400v160ZM180-400h160v-160H180v160Zm440 0h160v-160H620v160ZM180-180h160v-160H180v160Zm440 0h160v-160H620v160Z\"/>\n",
              "  </svg>\n",
              "    </button>\n",
              "\n",
              "  <style>\n",
              "    .colab-df-container {\n",
              "      display:flex;\n",
              "      gap: 12px;\n",
              "    }\n",
              "\n",
              "    .colab-df-convert {\n",
              "      background-color: #E8F0FE;\n",
              "      border: none;\n",
              "      border-radius: 50%;\n",
              "      cursor: pointer;\n",
              "      display: none;\n",
              "      fill: #1967D2;\n",
              "      height: 32px;\n",
              "      padding: 0 0 0 0;\n",
              "      width: 32px;\n",
              "    }\n",
              "\n",
              "    .colab-df-convert:hover {\n",
              "      background-color: #E2EBFA;\n",
              "      box-shadow: 0px 1px 2px rgba(60, 64, 67, 0.3), 0px 1px 3px 1px rgba(60, 64, 67, 0.15);\n",
              "      fill: #174EA6;\n",
              "    }\n",
              "\n",
              "    .colab-df-buttons div {\n",
              "      margin-bottom: 4px;\n",
              "    }\n",
              "\n",
              "    [theme=dark] .colab-df-convert {\n",
              "      background-color: #3B4455;\n",
              "      fill: #D2E3FC;\n",
              "    }\n",
              "\n",
              "    [theme=dark] .colab-df-convert:hover {\n",
              "      background-color: #434B5C;\n",
              "      box-shadow: 0px 1px 3px 1px rgba(0, 0, 0, 0.15);\n",
              "      filter: drop-shadow(0px 1px 2px rgba(0, 0, 0, 0.3));\n",
              "      fill: #FFFFFF;\n",
              "    }\n",
              "  </style>\n",
              "\n",
              "    <script>\n",
              "      const buttonEl =\n",
              "        document.querySelector('#df-ee119a3b-8670-4156-8c02-de3aa3135606 button.colab-df-convert');\n",
              "      buttonEl.style.display =\n",
              "        google.colab.kernel.accessAllowed ? 'block' : 'none';\n",
              "\n",
              "      async function convertToInteractive(key) {\n",
              "        const element = document.querySelector('#df-ee119a3b-8670-4156-8c02-de3aa3135606');\n",
              "        const dataTable =\n",
              "          await google.colab.kernel.invokeFunction('convertToInteractive',\n",
              "                                                    [key], {});\n",
              "        if (!dataTable) return;\n",
              "\n",
              "        const docLinkHtml = 'Like what you see? Visit the ' +\n",
              "          '<a target=\"_blank\" href=https://colab.research.google.com/notebooks/data_table.ipynb>data table notebook</a>'\n",
              "          + ' to learn more about interactive tables.';\n",
              "        element.innerHTML = '';\n",
              "        dataTable['output_type'] = 'display_data';\n",
              "        await google.colab.output.renderOutput(dataTable, element);\n",
              "        const docLink = document.createElement('div');\n",
              "        docLink.innerHTML = docLinkHtml;\n",
              "        element.appendChild(docLink);\n",
              "      }\n",
              "    </script>\n",
              "  </div>\n",
              "\n",
              "\n",
              "  <div id=\"id_b76a9180-d99f-4245-bb3e-d06b3f06b15b\">\n",
              "    <style>\n",
              "      .colab-df-generate {\n",
              "        background-color: #E8F0FE;\n",
              "        border: none;\n",
              "        border-radius: 50%;\n",
              "        cursor: pointer;\n",
              "        display: none;\n",
              "        fill: #1967D2;\n",
              "        height: 32px;\n",
              "        padding: 0 0 0 0;\n",
              "        width: 32px;\n",
              "      }\n",
              "\n",
              "      .colab-df-generate:hover {\n",
              "        background-color: #E2EBFA;\n",
              "        box-shadow: 0px 1px 2px rgba(60, 64, 67, 0.3), 0px 1px 3px 1px rgba(60, 64, 67, 0.15);\n",
              "        fill: #174EA6;\n",
              "      }\n",
              "\n",
              "      [theme=dark] .colab-df-generate {\n",
              "        background-color: #3B4455;\n",
              "        fill: #D2E3FC;\n",
              "      }\n",
              "\n",
              "      [theme=dark] .colab-df-generate:hover {\n",
              "        background-color: #434B5C;\n",
              "        box-shadow: 0px 1px 3px 1px rgba(0, 0, 0, 0.15);\n",
              "        filter: drop-shadow(0px 1px 2px rgba(0, 0, 0, 0.3));\n",
              "        fill: #FFFFFF;\n",
              "      }\n",
              "    </style>\n",
              "    <button class=\"colab-df-generate\" onclick=\"generateWithVariable('data')\"\n",
              "            title=\"Generate code using this dataframe.\"\n",
              "            style=\"display:none;\">\n",
              "\n",
              "  <svg xmlns=\"http://www.w3.org/2000/svg\" height=\"24px\"viewBox=\"0 0 24 24\"\n",
              "       width=\"24px\">\n",
              "    <path d=\"M7,19H8.4L18.45,9,17,7.55,7,17.6ZM5,21V16.75L18.45,3.32a2,2,0,0,1,2.83,0l1.4,1.43a1.91,1.91,0,0,1,.58,1.4,1.91,1.91,0,0,1-.58,1.4L9.25,21ZM18.45,9,17,7.55Zm-12,3A5.31,5.31,0,0,0,4.9,8.1,5.31,5.31,0,0,0,1,6.5,5.31,5.31,0,0,0,4.9,4.9,5.31,5.31,0,0,0,6.5,1,5.31,5.31,0,0,0,8.1,4.9,5.31,5.31,0,0,0,12,6.5,5.46,5.46,0,0,0,6.5,12Z\"/>\n",
              "  </svg>\n",
              "    </button>\n",
              "    <script>\n",
              "      (() => {\n",
              "      const buttonEl =\n",
              "        document.querySelector('#id_b76a9180-d99f-4245-bb3e-d06b3f06b15b button.colab-df-generate');\n",
              "      buttonEl.style.display =\n",
              "        google.colab.kernel.accessAllowed ? 'block' : 'none';\n",
              "\n",
              "      buttonEl.onclick = () => {\n",
              "        google.colab.notebook.generateWithVariable('data');\n",
              "      }\n",
              "      })();\n",
              "    </script>\n",
              "  </div>\n",
              "\n",
              "    </div>\n",
              "  </div>\n"
            ],
            "application/vnd.google.colaboratory.intrinsic+json": {
              "type": "dataframe",
              "variable_name": "data",
              "repr_error": "Out of range float values are not JSON compliant: nan"
            }
          },
          "metadata": {},
          "execution_count": 19
        }
      ]
    },
    {
      "cell_type": "code",
      "source": [
        "# Number of cluster we wish to divide the data into( user tunable )\n",
        "k = 3\n",
        "\n",
        "# Max number of allowed iterations for the algorithm( user tunable )\n",
        "epochs = 2000"
      ],
      "metadata": {
        "id": "_zqF6qQUyGts"
      },
      "execution_count": 20,
      "outputs": []
    },
    {
      "cell_type": "code",
      "source": [
        "def initilizeCentroids(data, k):\n",
        "    if k > data.shape[0]:\n",
        "        raise ValueError(\"Number of clusters (k) cannot exceed number of data points.\")\n",
        "    centroids = data.values[0:k]\n",
        "    return centroids"
      ],
      "metadata": {
        "id": "3V0CQZrbyJjE"
      },
      "execution_count": 37,
      "outputs": []
    },
    {
      "cell_type": "code",
      "source": [
        "def assignCentroids(X, C):\n",
        "    expanded_vectors = tf.expand_dims(X, 0)\n",
        "    expanded_centroids = tf.expand_dims(C, 1)\n",
        "    distance = tf.math.reduce_sum(tf.math.square(tf.math.subtract(expanded_vectors, expanded_centroids)), axis=2)\n",
        "    return tf.math.argmin(distance, axis=0)\n",
        "\n",
        "# Utility to recalculate centroids\n",
        "def reCalculateCentroids(X, X_labels, k):\n",
        "    sums = tf.math.unsorted_segment_sum(X, X_labels, k)\n",
        "    counts = tf.math.unsorted_segment_sum(tf.ones_like(X), X_labels, k)\n",
        "    counts = tf.where(tf.equal(counts, 0), tf.ones_like(counts), counts)  # Avoid division by zero\n",
        "    return tf.math.divide(sums, counts)"
      ],
      "metadata": {
        "id": "bJ3lFIKcyNL9"
      },
      "execution_count": 38,
      "outputs": []
    },
    {
      "cell_type": "code",
      "source": [
        "data = pd.DataFrame({\n",
        "    'x1': np.random.rand(10),\n",
        "    'x2': np.random.rand(10)\n",
        "})\n",
        "data = data.apply(pd.to_numeric, errors='coerce')  # Ensure numeric\n",
        "data = data.dropna()  # Drop rows with NaN values\n",
        "data = data.astype('float32')  # Convert to float32 for TensorFlow\n",
        "\n",
        "# Verify the data\n",
        "print(data.head())\n",
        "print(\"Data shape:\", data.shape)\n",
        "\n",
        "# Parameters\n",
        "k = 3  # Number of clusters\n",
        "epochs = 10\n",
        "\n",
        "# Convert to TensorFlow variables\n",
        "X = tf.Variable(data.values, dtype=tf.float32, name=\"X\")\n",
        "C = tf.Variable(tf.cast(initilizeCentroids(data, k), dtype=tf.float32), name=\"C\")\n",
        "\n",
        "# Validate Tensor shapes\n",
        "print(\"X shape:\", X.shape)\n",
        "print(\"C shape:\", C.shape)\n",
        "\n",
        "# K-means clustering loop\n",
        "for epoch in range(epochs):\n",
        "    X_labels = assignCentroids(X, C)\n",
        "    print(f\"Epoch {epoch}, Labels:\\n\", X_labels.numpy())  # Debug labels\n",
        "    C = reCalculateCentroids(X, X_labels, k)\n",
        "    print(f\"Epoch {epoch}, Centroids:\\n\", C.numpy())  # Debug centroids"
      ],
      "metadata": {
        "colab": {
          "base_uri": "https://localhost:8080/"
        },
        "id": "Bz7f8Ug7yO_d",
        "outputId": "7cd8d024-aa4a-421e-8ed3-484449956108"
      },
      "execution_count": 39,
      "outputs": [
        {
          "output_type": "stream",
          "name": "stdout",
          "text": [
            "         x1        x2\n",
            "0  0.940604  0.054314\n",
            "1  0.036627  0.419179\n",
            "2  0.282115  0.581665\n",
            "3  0.514998  0.271916\n",
            "4  0.348262  0.156362\n",
            "Data shape: (10, 2)\n",
            "X shape: (10, 2)\n",
            "C shape: (3, 2)\n",
            "Epoch 0, Labels:\n",
            " [0 1 2 2 1 2 1 2 2 2]\n",
            "Epoch 0, Centroids:\n",
            " [[0.94060415 0.05431435]\n",
            " [0.24047108 0.19559282]\n",
            " [0.320214   0.5732886 ]]\n",
            "Epoch 1, Labels:\n",
            " [0 1 2 1 1 2 1 2 2 1]\n",
            "Epoch 1, Centroids:\n",
            " [[0.94060415 0.05431435]\n",
            " [0.33294064 0.20341757]\n",
            " [0.2444985  0.7523556 ]]\n",
            "Epoch 2, Labels:\n",
            " [0 1 2 1 1 2 1 2 2 1]\n",
            "Epoch 2, Centroids:\n",
            " [[0.94060415 0.05431435]\n",
            " [0.33294064 0.20341757]\n",
            " [0.2444985  0.7523556 ]]\n",
            "Epoch 3, Labels:\n",
            " [0 1 2 1 1 2 1 2 2 1]\n",
            "Epoch 3, Centroids:\n",
            " [[0.94060415 0.05431435]\n",
            " [0.33294064 0.20341757]\n",
            " [0.2444985  0.7523556 ]]\n",
            "Epoch 4, Labels:\n",
            " [0 1 2 1 1 2 1 2 2 1]\n",
            "Epoch 4, Centroids:\n",
            " [[0.94060415 0.05431435]\n",
            " [0.33294064 0.20341757]\n",
            " [0.2444985  0.7523556 ]]\n",
            "Epoch 5, Labels:\n",
            " [0 1 2 1 1 2 1 2 2 1]\n",
            "Epoch 5, Centroids:\n",
            " [[0.94060415 0.05431435]\n",
            " [0.33294064 0.20341757]\n",
            " [0.2444985  0.7523556 ]]\n",
            "Epoch 6, Labels:\n",
            " [0 1 2 1 1 2 1 2 2 1]\n",
            "Epoch 6, Centroids:\n",
            " [[0.94060415 0.05431435]\n",
            " [0.33294064 0.20341757]\n",
            " [0.2444985  0.7523556 ]]\n",
            "Epoch 7, Labels:\n",
            " [0 1 2 1 1 2 1 2 2 1]\n",
            "Epoch 7, Centroids:\n",
            " [[0.94060415 0.05431435]\n",
            " [0.33294064 0.20341757]\n",
            " [0.2444985  0.7523556 ]]\n",
            "Epoch 8, Labels:\n",
            " [0 1 2 1 1 2 1 2 2 1]\n",
            "Epoch 8, Centroids:\n",
            " [[0.94060415 0.05431435]\n",
            " [0.33294064 0.20341757]\n",
            " [0.2444985  0.7523556 ]]\n",
            "Epoch 9, Labels:\n",
            " [0 1 2 1 1 2 1 2 2 1]\n",
            "Epoch 9, Centroids:\n",
            " [[0.94060415 0.05431435]\n",
            " [0.33294064 0.20341757]\n",
            " [0.2444985  0.7523556 ]]\n"
          ]
        }
      ]
    }
  ]
}