{
  "nbformat": 4,
  "nbformat_minor": 0,
  "metadata": {
    "colab": {
      "provenance": []
    },
    "kernelspec": {
      "name": "python3",
      "display_name": "Python 3"
    },
    "language_info": {
      "name": "python"
    }
  },
  "cells": [
    {
      "cell_type": "code",
      "execution_count": 1,
      "metadata": {
        "id": "3lNaB4ypA1DD"
      },
      "outputs": [],
      "source": [
        "\n",
        "\n",
        "import tensorflow as tf\n",
        "from tensorflow import keras\n",
        "from keras import layers\n",
        "\n",
        "(x_train, y_train), (x_test, y_test) = keras.datasets.fashion_mnist.load_data()\n",
        "x_train, x_test = x_train / 255.0, x_test / 255.0\n",
        "x_train = x_train[..., tf.newaxis]\n",
        "x_test = x_test[..., tf.newaxis]\n",
        "x_val, y_val = x_train[-5000:], y_train[-5000:]\n",
        "x_train, y_train = x_train[:-5000], y_train[:-5000]\n",
        "\n",
        "train_ds = tf.data.Dataset.from_tensor_slices((x_train, y_train)).shuffle(1000).batch(64)\n",
        "val_ds = tf.data.Dataset.from_tensor_slices((x_val, y_val)).batch(64)\n"
      ]
    },
    {
      "cell_type": "code",
      "source": [
        "\n",
        "class MyCNN(keras.Model):\n",
        "    def __init__(self):\n",
        "        super().__init__()\n",
        "        self.conv1 = layers.Conv2D(32, 3, activation='relu')\n",
        "        self.pool = layers.MaxPooling2D()\n",
        "        self.flatten = layers.Flatten()\n",
        "        self.dense1 = layers.Dense(128, activation='relu')\n",
        "        self.out = layers.Dense(10, activation='softmax')\n",
        "\n",
        "    def call(self, x):\n",
        "        x = self.conv1(x)\n",
        "        x = self.pool(x)\n",
        "        x = self.flatten(x)\n",
        "        x = self.dense1(x)\n",
        "        return self.out(x)\n",
        "\n",
        "model = MyCNN()\n",
        "\n",
        "loss_fn = keras.losses.SparseCategoricalCrossentropy()\n",
        "optimizer = keras.optimizers.Adam()\n",
        "\n",
        "train_acc = keras.metrics.SparseCategoricalAccuracy()\n",
        "val_acc = keras.metrics.SparseCategoricalAccuracy()\n"
      ],
      "metadata": {
        "id": "NhL0BDZfCLx6"
      },
      "execution_count": 2,
      "outputs": []
    },
    {
      "cell_type": "code",
      "source": [
        "\n",
        "for epoch in range(5):\n",
        "    print(f\"\\nEpoch {epoch+1}/5\")\n",
        "    for x_batch, y_batch in train_ds:\n",
        "        with tf.GradientTape() as tape:\n",
        "            logits = model(x_batch, training=True)\n",
        "            loss = loss_fn(y_batch, logits)\n",
        "        grads = tape.gradient(loss, model.trainable_variables)\n",
        "        optimizer.apply_gradients(zip(grads, model.trainable_variables))\n",
        "        train_acc.update_state(y_batch, logits)\n",
        "\n",
        "    print(f\"Train Accuracy: {train_acc.result().numpy():.4f}\")\n",
        "    train_acc.reset_state()\n",
        "\n",
        "    for x_batch, y_batch in val_ds:\n",
        "        preds = model(x_batch, training=False)\n",
        "        val_acc.update_state(y_batch, preds)\n",
        "    print(f\"Val Accuracy: {val_acc.result().numpy():.4f}\")\n",
        "    val_acc.reset_state()\n"
      ],
      "metadata": {
        "colab": {
          "base_uri": "https://localhost:8080/"
        },
        "id": "4QIvUqtaCNoM",
        "outputId": "a338b214-89ec-44d6-c901-2182e0def2e9"
      },
      "execution_count": 3,
      "outputs": [
        {
          "output_type": "stream",
          "name": "stdout",
          "text": [
            "\n",
            "Epoch 1/5\n",
            "Train Accuracy: 0.8443\n",
            "Val Accuracy: 0.8750\n",
            "\n",
            "Epoch 2/5\n",
            "Train Accuracy: 0.8945\n",
            "Val Accuracy: 0.9010\n",
            "\n",
            "Epoch 3/5\n",
            "Train Accuracy: 0.9083\n",
            "Val Accuracy: 0.9108\n",
            "\n",
            "Epoch 4/5\n",
            "Train Accuracy: 0.9204\n",
            "Val Accuracy: 0.9108\n",
            "\n",
            "Epoch 5/5\n",
            "Train Accuracy: 0.9300\n",
            "Val Accuracy: 0.9062\n"
          ]
        }
      ]
    },
    {
      "cell_type": "code",
      "source": [
        "\n",
        "test_ds = tf.data.Dataset.from_tensor_slices((x_test, y_test)).batch(64)\n",
        "test_acc = keras.metrics.SparseCategoricalAccuracy()\n",
        "for x_batch, y_batch in test_ds:\n",
        "    preds = model(x_batch, training=False)\n",
        "    test_acc.update_state(y_batch, preds)\n",
        "print(f\"\\nTest Accuracy: {test_acc.result().numpy():.4f}\")\n"
      ],
      "metadata": {
        "colab": {
          "base_uri": "https://localhost:8080/"
        },
        "id": "RUzSozgCCRDC",
        "outputId": "adebec1c-fe53-4eb9-c1f4-6fde594db343"
      },
      "execution_count": 4,
      "outputs": [
        {
          "output_type": "stream",
          "name": "stdout",
          "text": [
            "\n",
            "Test Accuracy: 0.8989\n"
          ]
        }
      ]
    }
  ]
}