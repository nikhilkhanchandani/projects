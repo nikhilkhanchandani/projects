{
  "nbformat": 4,
  "nbformat_minor": 0,
  "metadata": {
    "colab": {
      "provenance": []
    },
    "kernelspec": {
      "name": "python3",
      "display_name": "Python 3"
    },
    "language_info": {
      "name": "python"
    }
  },
  "cells": [
    {
      "cell_type": "code",
      "execution_count": 26,
      "metadata": {
        "id": "uJc5Z_0rTMXK"
      },
      "outputs": [],
      "source": [
        "\n",
        "\n",
        "import tensorflow as tf\n",
        "from tensorflow import keras\n",
        "from keras import layers\n",
        "\n",
        "\n",
        "tf.config.run_functions_eagerly(True)\n",
        "\n",
        "\n",
        "(x_train, y_train), (x_test, y_test) = keras.datasets.fashion_mnist.load_data()\n",
        "x_train, x_test = x_train / 255.0, x_test / 255.0\n",
        "x_train = x_train[..., tf.newaxis]\n",
        "x_test = x_test[..., tf.newaxis]\n",
        "x_val, y_val = x_train[-5000:], y_train[-5000:]\n",
        "x_train, y_train = x_train[:-5000], y_train[:-5000]\n"
      ]
    },
    {
      "cell_type": "code",
      "source": [
        "\n",
        "class AddGaussianNoise(layers.Layer):\n",
        "    def __init__(self, stddev=0.1):\n",
        "        super().__init__()\n",
        "        self.stddev = stddev\n",
        "    def call(self, inputs, training=False):\n",
        "        if training:\n",
        "            return inputs + tf.random.normal(tf.shape(inputs), stddev=self.stddev)\n",
        "        return inputs\n",
        "\n",
        "\n",
        "inputs = keras.Input(shape=(28, 28, 1))\n",
        "x = layers.Flatten()(inputs)\n",
        "x = AddGaussianNoise(0.1)(x)\n",
        "x = layers.Dense(64, activation=\"relu\")(x)\n",
        "x = layers.Dense(64, activation=\"relu\")(x)\n",
        "x = layers.Dense(10)(x)\n",
        "outputs = layers.Activation(\"softmax\")(x)\n",
        "model = keras.Model(inputs, outputs)\n",
        "\n",
        "\n"
      ],
      "metadata": {
        "id": "HEknP9FhBYQ5"
      },
      "execution_count": 27,
      "outputs": []
    },
    {
      "cell_type": "code",
      "source": [
        "learning_rate = 0.01\n",
        "momentum = 0.9\n",
        "velocities = [tf.Variable(tf.zeros_like(var)) for var in model.trainable_variables]\n",
        "\n",
        "loss_fn = keras.losses.SparseCategoricalCrossentropy()\n",
        "train_acc = keras.metrics.SparseCategoricalAccuracy()\n",
        "val_acc = keras.metrics.SparseCategoricalAccuracy()\n",
        "\n",
        "train_ds = tf.data.Dataset.from_tensor_slices((x_train, y_train)).shuffle(1024).batch(64)\n",
        "val_ds = tf.data.Dataset.from_tensor_slices((x_val, y_val)).batch(64)\n"
      ],
      "metadata": {
        "id": "fOJh2GeNBaOM"
      },
      "execution_count": 28,
      "outputs": []
    },
    {
      "cell_type": "code",
      "source": [
        "\n",
        "for epoch in range(5):\n",
        "    print(f\"\\nEpoch {epoch+1}/5\")\n",
        "    for x_batch, y_batch in train_ds:\n",
        "        with tf.GradientTape() as tape:\n",
        "            logits = model(x_batch, training=True)\n",
        "            loss = loss_fn(y_batch, logits)\n",
        "        grads = tape.gradient(loss, model.trainable_variables)\n",
        "\n",
        "        for v, g, param in zip(velocities, grads, model.trainable_variables):\n",
        "            v.assign(momentum * v - learning_rate * g)\n",
        "            param.assign_add(v)\n",
        "\n",
        "        train_acc.update_state(y_batch, logits)\n",
        "\n",
        "    print(f\"Train Accuracy: {train_acc.result().numpy():.4f}\")\n",
        "    train_acc.reset_state()\n",
        "\n",
        "    for x_batch, y_batch in val_ds:\n",
        "        val_preds = model(x_batch, training=False)\n",
        "        val_acc.update_state(y_batch, val_preds)\n",
        "    print(f\"Val Accuracy: {val_acc.result().numpy():.4f}\")\n",
        "    val_acc.reset_state()\n",
        "\n"
      ],
      "metadata": {
        "colab": {
          "base_uri": "https://localhost:8080/"
        },
        "id": "H0aZJufWBeJf",
        "outputId": "71feee37-6310-4b56-8cef-c4bab6002993"
      },
      "execution_count": 29,
      "outputs": [
        {
          "output_type": "stream",
          "name": "stdout",
          "text": [
            "\n",
            "Epoch 1/5\n",
            "Train Accuracy: 0.7807\n",
            "Val Accuracy: 0.8394\n",
            "\n",
            "Epoch 2/5\n",
            "Train Accuracy: 0.8427\n",
            "Val Accuracy: 0.8482\n",
            "\n",
            "Epoch 3/5\n",
            "Train Accuracy: 0.8572\n",
            "Val Accuracy: 0.8674\n",
            "\n",
            "Epoch 4/5\n",
            "Train Accuracy: 0.8631\n",
            "Val Accuracy: 0.8732\n",
            "\n",
            "Epoch 5/5\n",
            "Train Accuracy: 0.8716\n",
            "Val Accuracy: 0.8654\n"
          ]
        }
      ]
    },
    {
      "cell_type": "code",
      "source": [
        "test_ds = tf.data.Dataset.from_tensor_slices((x_test, y_test)).batch(64)\n",
        "test_acc = keras.metrics.SparseCategoricalAccuracy()\n",
        "for x_batch, y_batch in test_ds:\n",
        "    preds = model(x_batch, training=False)\n",
        "    test_acc.update_state(y_batch, preds)\n",
        "print(f\"\\nTest Accuracy: {test_acc.result().numpy():.4f}\")"
      ],
      "metadata": {
        "colab": {
          "base_uri": "https://localhost:8080/"
        },
        "id": "g5NEODc8Be5n",
        "outputId": "2718b822-9c61-451c-89d5-4b4952e1a3c7"
      },
      "execution_count": 30,
      "outputs": [
        {
          "output_type": "stream",
          "name": "stdout",
          "text": [
            "\n",
            "Test Accuracy: 0.8593\n"
          ]
        }
      ]
    }
  ]
}