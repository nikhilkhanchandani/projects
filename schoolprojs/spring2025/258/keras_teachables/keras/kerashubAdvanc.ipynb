{
  "nbformat": 4,
  "nbformat_minor": 0,
  "metadata": {
    "colab": {
      "provenance": []
    },
    "kernelspec": {
      "name": "python3",
      "display_name": "Python 3"
    },
    "language_info": {
      "name": "python"
    }
  },
  "cells": [
    {
      "cell_type": "code",
      "execution_count": 8,
      "metadata": {
        "colab": {
          "base_uri": "https://localhost:8080/",
          "height": 574
        },
        "id": "_wqk4u69Cibe",
        "outputId": "c7d0a813-1e04-43ba-cbfa-6f2b59678639"
      },
      "outputs": [
        {
          "output_type": "stream",
          "name": "stdout",
          "text": [
            "Model loaded successfully!\n",
            "Training samples: 63\n",
            "Validation samples: 16\n"
          ]
        },
        {
          "output_type": "stream",
          "name": "stderr",
          "text": [
            "<ipython-input-8-f40958bd3973>:50: UserWarning: No artists with labels found to put in legend.  Note that artists whose label start with an underscore are ignored when legend() is called with no argument.\n",
            "  plt.legend()\n"
          ]
        },
        {
          "output_type": "display_data",
          "data": {
            "text/plain": [
              "<Figure size 640x480 with 1 Axes>"
            ],
            "image/png": "[encoded data removed]"
          },
          "metadata": {}
        },
        {
          "output_type": "stream",
          "name": "stdout",
          "text": [
            "\u001b[1m16/16\u001b[0m \u001b[32m━━━━━━━━━━━━━━━━━━━━\u001b[0m\u001b[37m\u001b[0m \u001b[1m190s\u001b[0m 11s/step - accuracy: 0.1336 - loss: 3.2346 - sparse_top_k_categorical_accuracy: 0.5539\n",
            "Test Results: [3.2567336559295654, 0.11999999731779099, 0.5400000214576721]\n",
            "Test Accuracy: 0.11999999731779099\n"
          ]
        }
      ],
      "source": [
        "import tensorflow as tf\n",
        "import tensorflow_hub as hub\n",
        "import tensorflow_datasets as tfds\n",
        "import matplotlib.pyplot as plt\n",
        "import os\n",
        "\n",
        "# Load EuroSAT dataset (land use classification)\n",
        "(ds_train, ds_test), ds_info = tfds.load(\n",
        "    'eurosat/rgb', split=['train[:80%]', 'train[80%:]'], as_supervised=True, with_info=True\n",
        ")\n",
        "\n",
        "# Preprocess function\n",
        "def format_image(image, label):\n",
        "    image = tf.image.resize(image, (224, 224)) / 255.0\n",
        "    return image, label\n",
        "\n",
        "ds_train = ds_train.map(format_image).take(1000).batch(16).shuffle(500)\n",
        "ds_test = ds_test.map(format_image).take(250).batch(16)\n",
        "\n",
        "# Ensure cache directory exists\n",
        "os.environ[\"TFHUB_CACHE_DIR\"] = \"/tmp/tfhub_modules\"\n",
        "\n",
        "# Load Vision Transformer (ViT) from TensorFlow Hub\n",
        "vit_model = hub.KerasLayer(\n",
        "    \"https://tfhub.dev/sayakpaul/vit_b16_fe/1\", input_shape=(224, 224, 3), trainable=True\n",
        ")\n",
        "\n",
        "print(\"Model loaded successfully!\")\n",
        "\n",
        "# Build Model using Functional API\n",
        "inputs = tf.keras.Input(shape=(224, 224, 3))\n",
        "x = tf.keras.layers.Lambda(lambda img: vit_model(img), output_shape=(768,))(inputs)\n",
        "x = tf.keras.layers.Dense(128, activation='relu')(x)\n",
        "x = tf.keras.layers.Dropout(0.3)(x)\n",
        "outputs = tf.keras.layers.Dense(ds_info.features['label'].num_classes, activation='softmax')(x)\n",
        "model = tf.keras.Model(inputs, outputs)\n",
        "\n",
        "model.compile(\n",
        "    optimizer=tf.keras.optimizers.Adam(0.0005),  # Lower LR for fine-tuning\n",
        "    loss=tf.keras.losses.SparseCategoricalCrossentropy(),\n",
        "    metrics=['accuracy', 'sparse_top_k_categorical_accuracy']\n",
        ")\n",
        "\n",
        "train_samples = sum(1 for _ in ds_train)\n",
        "val_samples = sum(1 for _ in ds_test)\n",
        "print(f'Training samples: {train_samples}')\n",
        "print(f'Validation samples: {val_samples}')\n",
        "if train_samples == 0 or val_samples == 0:\n",
        "    raise RuntimeError('No valid training/validation samples found!')\n",
        "plt.legend()\n",
        "plt.show()\n",
        "\n",
        "# Evaluate on test set\n",
        "results = model.evaluate(ds_test)\n",
        "print(\"Test Results:\", results)\n",
        "print(\"Test Accuracy:\", results[1])\n"
      ]
    }
  ]
}