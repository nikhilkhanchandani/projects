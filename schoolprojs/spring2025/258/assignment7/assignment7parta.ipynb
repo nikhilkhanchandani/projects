{
  "nbformat": 4,
  "nbformat_minor": 0,
  "metadata": {
    "colab": {
      "provenance": []
    },
    "kernelspec": {
      "name": "python3",
      "display_name": "Python 3"
    },
    "language_info": {
      "name": "python"
    }
  },
  "cells": [
    {
      "cell_type": "code",
      "execution_count": null,
      "metadata": {
        "id": "lbi7UGmc5lQx"
      },
      "outputs": [],
      "source": [
        "# langgraph api based colab - with langsmith studio trace demonstration"
      ]
    }
  ]
}