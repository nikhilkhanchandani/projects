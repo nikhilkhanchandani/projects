{
  "nbformat": 4,
  "nbformat_minor": 0,
  "metadata": {
    "colab": {
      "provenance": []
    },
    "kernelspec": {
      "name": "python3",
      "display_name": "Python 3"
    },
    "language_info": {
      "name": "python"
    },
    "widgets": {
      "application/vnd.jupyter.widget-state+json": {
        "2a87a1564ab84365841a13668ba896db": {
          "model_module": "@jupyter-widgets/controls",
          "model_name": "HBoxModel",
          "model_module_version": "1.5.0",
          "state": {
            "_dom_classes": [],
            "_model_module": "@jupyter-widgets/controls",
            "_model_module_version": "1.5.0",
            "_model_name": "HBoxModel",
            "_view_count": null,
            "_view_module": "@jupyter-widgets/controls",
            "_view_module_version": "1.5.0",
            "_view_name": "HBoxView",
            "box_style": "",
            "children": [
              "IPY_MODEL_79fb7e682cfa439eb4372e53e81ed06f",
              "IPY_MODEL_9f918412644743dc94837a5d8e3f7695",
              "IPY_MODEL_585abd60dee545c4b71e8b97f1f191c8"
            ],
            "layout": "IPY_MODEL_55befa2518964ec28f26085ee18a0840"
          }
        },
        "79fb7e682cfa439eb4372e53e81ed06f": {
          "model_module": "@jupyter-widgets/controls",
          "model_name": "HTMLModel",
          "model_module_version": "1.5.0",
          "state": {
            "_dom_classes": [],
            "_model_module": "@jupyter-widgets/controls",
            "_model_module_version": "1.5.0",
            "_model_name": "HTMLModel",
            "_view_count": null,
            "_view_module": "@jupyter-widgets/controls",
            "_view_module_version": "1.5.0",
            "_view_name": "HTMLView",
            "description": "",
            "description_tooltip": null,
            "layout": "IPY_MODEL_70df9f6efbaf42009e5756f9d9d9abf1",
            "placeholder": "​",
            "style": "IPY_MODEL_9b5ec097cdc14fa5b4cc48ae71b9be66",
            "value": "deepseek-coder-6.7b-instruct.Q4_K_M.gguf: 100%"
          }
        },
        "9f918412644743dc94837a5d8e3f7695": {
          "model_module": "@jupyter-widgets/controls",
          "model_name": "FloatProgressModel",
          "model_module_version": "1.5.0",
          "state": {
            "_dom_classes": [],
            "_model_module": "@jupyter-widgets/controls",
            "_model_module_version": "1.5.0",
            "_model_name": "FloatProgressModel",
            "_view_count": null,
            "_view_module": "@jupyter-widgets/controls",
            "_view_module_version": "1.5.0",
            "_view_name": "ProgressView",
            "bar_style": "success",
            "description": "",
            "description_tooltip": null,
            "layout": "IPY_MODEL_7a8055ff49d14dc6850d2bba23c956b2",
            "max": 4083015904,
            "min": 0,
            "orientation": "horizontal",
            "style": "IPY_MODEL_56c69f2275d745cc846ca8904f282e6a",
            "value": 4083015904
          }
        },
        "585abd60dee545c4b71e8b97f1f191c8": {
          "model_module": "@jupyter-widgets/controls",
          "model_name": "HTMLModel",
          "model_module_version": "1.5.0",
          "state": {
            "_dom_classes": [],
            "_model_module": "@jupyter-widgets/controls",
            "_model_module_version": "1.5.0",
            "_model_name": "HTMLModel",
            "_view_count": null,
            "_view_module": "@jupyter-widgets/controls",
            "_view_module_version": "1.5.0",
            "_view_name": "HTMLView",
            "description": "",
            "description_tooltip": null,
            "layout": "IPY_MODEL_c77cd798bc7748b193aae3d8f891f847",
            "placeholder": "​",
            "style": "IPY_MODEL_ad48c7a59bde4f80bc432cd479921a7a",
            "value": " 4.08G/4.08G [00:54&lt;00:00, 93.8MB/s]"
          }
        },
        "55befa2518964ec28f26085ee18a0840": {
          "model_module": "@jupyter-widgets/base",
          "model_name": "LayoutModel",
          "model_module_version": "1.2.0",
          "state": {
            "_model_module": "@jupyter-widgets/base",
            "_model_module_version": "1.2.0",
            "_model_name": "LayoutModel",
            "_view_count": null,
            "_view_module": "@jupyter-widgets/base",
            "_view_module_version": "1.2.0",
            "_view_name": "LayoutView",
            "align_content": null,
            "align_items": null,
            "align_self": null,
            "border": null,
            "bottom": null,
            "display": null,
            "flex": null,
            "flex_flow": null,
            "grid_area": null,
            "grid_auto_columns": null,
            "grid_auto_flow": null,
            "grid_auto_rows": null,
            "grid_column": null,
            "grid_gap": null,
            "grid_row": null,
            "grid_template_areas": null,
            "grid_template_columns": null,
            "grid_template_rows": null,
            "height": null,
            "justify_content": null,
            "justify_items": null,
            "left": null,
            "margin": null,
            "max_height": null,
            "max_width": null,
            "min_height": null,
            "min_width": null,
            "object_fit": null,
            "object_position": null,
            "order": null,
            "overflow": null,
            "overflow_x": null,
            "overflow_y": null,
            "padding": null,
            "right": null,
            "top": null,
            "visibility": null,
            "width": null
          }
        },
        "70df9f6efbaf42009e5756f9d9d9abf1": {
          "model_module": "@jupyter-widgets/base",
          "model_name": "LayoutModel",
          "model_module_version": "1.2.0",
          "state": {
            "_model_module": "@jupyter-widgets/base",
            "_model_module_version": "1.2.0",
            "_model_name": "LayoutModel",
            "_view_count": null,
            "_view_module": "@jupyter-widgets/base",
            "_view_module_version": "1.2.0",
            "_view_name": "LayoutView",
            "align_content": null,
            "align_items": null,
            "align_self": null,
            "border": null,
            "bottom": null,
            "display": null,
            "flex": null,
            "flex_flow": null,
            "grid_area": null,
            "grid_auto_columns": null,
            "grid_auto_flow": null,
            "grid_auto_rows": null,
            "grid_column": null,
            "grid_gap": null,
            "grid_row": null,
            "grid_template_areas": null,
            "grid_template_columns": null,
            "grid_template_rows": null,
            "height": null,
            "justify_content": null,
            "justify_items": null,
            "left": null,
            "margin": null,
            "max_height": null,
            "max_width": null,
            "min_height": null,
            "min_width": null,
            "object_fit": null,
            "object_position": null,
            "order": null,
            "overflow": null,
            "overflow_x": null,
            "overflow_y": null,
            "padding": null,
            "right": null,
            "top": null,
            "visibility": null,
            "width": null
          }
        },
        "9b5ec097cdc14fa5b4cc48ae71b9be66": {
          "model_module": "@jupyter-widgets/controls",
          "model_name": "DescriptionStyleModel",
          "model_module_version": "1.5.0",
          "state": {
            "_model_module": "@jupyter-widgets/controls",
            "_model_module_version": "1.5.0",
            "_model_name": "DescriptionStyleModel",
            "_view_count": null,
            "_view_module": "@jupyter-widgets/base",
            "_view_module_version": "1.2.0",
            "_view_name": "StyleView",
            "description_width": ""
          }
        },
        "7a8055ff49d14dc6850d2bba23c956b2": {
          "model_module": "@jupyter-widgets/base",
          "model_name": "LayoutModel",
          "model_module_version": "1.2.0",
          "state": {
            "_model_module": "@jupyter-widgets/base",
            "_model_module_version": "1.2.0",
            "_model_name": "LayoutModel",
            "_view_count": null,
            "_view_module": "@jupyter-widgets/base",
            "_view_module_version": "1.2.0",
            "_view_name": "LayoutView",
            "align_content": null,
            "align_items": null,
            "align_self": null,
            "border": null,
            "bottom": null,
            "display": null,
            "flex": null,
            "flex_flow": null,
            "grid_area": null,
            "grid_auto_columns": null,
            "grid_auto_flow": null,
            "grid_auto_rows": null,
            "grid_column": null,
            "grid_gap": null,
            "grid_row": null,
            "grid_template_areas": null,
            "grid_template_columns": null,
            "grid_template_rows": null,
            "height": null,
            "justify_content": null,
            "justify_items": null,
            "left": null,
            "margin": null,
            "max_height": null,
            "max_width": null,
            "min_height": null,
            "min_width": null,
            "object_fit": null,
            "object_position": null,
            "order": null,
            "overflow": null,
            "overflow_x": null,
            "overflow_y": null,
            "padding": null,
            "right": null,
            "top": null,
            "visibility": null,
            "width": null
          }
        },
        "56c69f2275d745cc846ca8904f282e6a": {
          "model_module": "@jupyter-widgets/controls",
          "model_name": "ProgressStyleModel",
          "model_module_version": "1.5.0",
          "state": {
            "_model_module": "@jupyter-widgets/controls",
            "_model_module_version": "1.5.0",
            "_model_name": "ProgressStyleModel",
            "_view_count": null,
            "_view_module": "@jupyter-widgets/base",
            "_view_module_version": "1.2.0",
            "_view_name": "StyleView",
            "bar_color": null,
            "description_width": ""
          }
        },
        "c77cd798bc7748b193aae3d8f891f847": {
          "model_module": "@jupyter-widgets/base",
          "model_name": "LayoutModel",
          "model_module_version": "1.2.0",
          "state": {
            "_model_module": "@jupyter-widgets/base",
            "_model_module_version": "1.2.0",
            "_model_name": "LayoutModel",
            "_view_count": null,
            "_view_module": "@jupyter-widgets/base",
            "_view_module_version": "1.2.0",
            "_view_name": "LayoutView",
            "align_content": null,
            "align_items": null,
            "align_self": null,
            "border": null,
            "bottom": null,
            "display": null,
            "flex": null,
            "flex_flow": null,
            "grid_area": null,
            "grid_auto_columns": null,
            "grid_auto_flow": null,
            "grid_auto_rows": null,
            "grid_column": null,
            "grid_gap": null,
            "grid_row": null,
            "grid_template_areas": null,
            "grid_template_columns": null,
            "grid_template_rows": null,
            "height": null,
            "justify_content": null,
            "justify_items": null,
            "left": null,
            "margin": null,
            "max_height": null,
            "max_width": null,
            "min_height": null,
            "min_width": null,
            "object_fit": null,
            "object_position": null,
            "order": null,
            "overflow": null,
            "overflow_x": null,
            "overflow_y": null,
            "padding": null,
            "right": null,
            "top": null,
            "visibility": null,
            "width": null
          }
        },
        "ad48c7a59bde4f80bc432cd479921a7a": {
          "model_module": "@jupyter-widgets/controls",
          "model_name": "DescriptionStyleModel",
          "model_module_version": "1.5.0",
          "state": {
            "_model_module": "@jupyter-widgets/controls",
            "_model_module_version": "1.5.0",
            "_model_name": "DescriptionStyleModel",
            "_view_count": null,
            "_view_module": "@jupyter-widgets/base",
            "_view_module_version": "1.2.0",
            "_view_name": "StyleView",
            "description_width": ""
          }
        }
      }
    }
  },
  "cells": [
    {
      "cell_type": "code",
      "execution_count": 1,
      "metadata": {
        "id": "jeB59XNA039Z",
        "colab": {
          "base_uri": "https://localhost:8080/"
        },
        "outputId": "01b82a41-9e7b-4def-d596-2bf92dfbc218"
      },
      "outputs": [
        {
          "output_type": "stream",
          "name": "stdout",
          "text": [
            "\u001b[2K     \u001b[90m━━━━━━━━━━━━━━━━━━━━━━━━━━━━━━━━━━━━━━━━\u001b[0m \u001b[32m49.3/49.3 MB\u001b[0m \u001b[31m15.4 MB/s\u001b[0m eta \u001b[36m0:00:00\u001b[0m\n",
            "\u001b[?25h  Installing build dependencies ... \u001b[?25l\u001b[?25hdone\n",
            "  Getting requirements to build wheel ... \u001b[?25l\u001b[?25hdone\n",
            "  Installing backend dependencies ... \u001b[?25l\u001b[?25hdone\n",
            "  Preparing metadata (pyproject.toml) ... \u001b[?25l\u001b[?25hdone\n",
            "\u001b[2K     \u001b[90m━━━━━━━━━━━━━━━━━━━━━━━━━━━━━━━━━━━━━━━━\u001b[0m \u001b[32m42.9/42.9 kB\u001b[0m \u001b[31m2.0 MB/s\u001b[0m eta \u001b[36m0:00:00\u001b[0m\n",
            "\u001b[2K   \u001b[90m━━━━━━━━━━━━━━━━━━━━━━━━━━━━━━━━━━━━━━━━\u001b[0m \u001b[32m9.8/9.8 MB\u001b[0m \u001b[31m78.5 MB/s\u001b[0m eta \u001b[36m0:00:00\u001b[0m\n",
            "\u001b[2K   \u001b[90m━━━━━━━━━━━━━━━━━━━━━━━━━━━━━━━━━━━━━━━━\u001b[0m \u001b[32m45.5/45.5 kB\u001b[0m \u001b[31m2.7 MB/s\u001b[0m eta \u001b[36m0:00:00\u001b[0m\n",
            "\u001b[2K   \u001b[90m━━━━━━━━━━━━━━━━━━━━━━━━━━━━━━━━━━━━━━━━\u001b[0m \u001b[32m272.3/272.3 kB\u001b[0m \u001b[31m13.7 MB/s\u001b[0m eta \u001b[36m0:00:00\u001b[0m\n",
            "\u001b[?25h  Building wheel for llama-cpp-python (pyproject.toml) ... \u001b[?25l\u001b[?25hdone\n"
          ]
        }
      ],
      "source": [
        "!pip -q install --upgrade \"llama-cpp-python[server]==0.2.84\" google-adk litellm huggingface_hub python-dotenv\n"
      ]
    },
    {
      "cell_type": "code",
      "source": [
        "import os\n",
        "from huggingface_hub import hf_hub_download\n",
        "\n",
        "# DeepSeek-Coder 6.7B Instruct (quantized GGUF) – good balance of quality/speed\n",
        "REPO_ID = \"TheBloke/DeepSeek-Coder-6.7B-Instruct-GGUF\"\n",
        "FILENAME = \"deepseek-coder-6.7b-instruct.Q4_K_M.gguf\"\n",
        "\n",
        "model_path = hf_hub_download(repo_id=REPO_ID, filename=FILENAME)\n",
        "model_path\n"
      ],
      "metadata": {
        "colab": {
          "base_uri": "https://localhost:8080/",
          "height": 171,
          "referenced_widgets": [
            "2a87a1564ab84365841a13668ba896db",
            "79fb7e682cfa439eb4372e53e81ed06f",
            "9f918412644743dc94837a5d8e3f7695",
            "585abd60dee545c4b71e8b97f1f191c8",
            "55befa2518964ec28f26085ee18a0840",
            "70df9f6efbaf42009e5756f9d9d9abf1",
            "9b5ec097cdc14fa5b4cc48ae71b9be66",
            "7a8055ff49d14dc6850d2bba23c956b2",
            "56c69f2275d745cc846ca8904f282e6a",
            "c77cd798bc7748b193aae3d8f891f847",
            "ad48c7a59bde4f80bc432cd479921a7a"
          ]
        },
        "id": "jRcn88Mj3g2B",
        "outputId": "17c16468-900e-4a8e-b90a-61e54f7136a6"
      },
      "execution_count": 2,
      "outputs": [
        {
          "output_type": "stream",
          "name": "stderr",
          "text": [
            "/usr/local/lib/python3.12/dist-packages/huggingface_hub/utils/_auth.py:94: UserWarning: \n",
            "The secret `HF_TOKEN` does not exist in your Colab secrets.\n",
            "To authenticate with the Hugging Face Hub, create a token in your settings tab (https://huggingface.co/settings/tokens), set it as secret in your Google Colab and restart your session.\n",
            "You will be able to reuse this secret in all of your notebooks.\n",
            "Please note that authentication is recommended but still optional to access public models or datasets.\n",
            "  warnings.warn(\n"
          ]
        },
        {
          "output_type": "display_data",
          "data": {
            "text/plain": [
              "deepseek-coder-6.7b-instruct.Q4_K_M.gguf:   0%|          | 0.00/4.08G [00:00<?, ?B/s]"
            ],
            "application/vnd.jupyter.widget-view+json": {
              "version_major": 2,
              "version_minor": 0,
              "model_id": "2a87a1564ab84365841a13668ba896db"
            }
          },
          "metadata": {}
        },
        {
          "output_type": "execute_result",
          "data": {
            "text/plain": [
              "'/root/.cache/huggingface/hub/models--TheBloke--DeepSeek-Coder-6.7B-Instruct-GGUF/snapshots/9e221e6b41cb1bf1c5d8f9718e81e3dc781f7557/deepseek-coder-6.7b-instruct.Q4_K_M.gguf'"
            ],
            "application/vnd.google.colaboratory.intrinsic+json": {
              "type": "string"
            }
          },
          "metadata": {},
          "execution_count": 2
        }
      ]
    },
    {
      "cell_type": "code",
      "source": [
        "# run this once so the next bash cell can see the path\n",
        "import os\n",
        "os.environ[\"MODEL_PATH\"] = model_path  # model_path comes from Step 2\n",
        "print(\"Using model at:\", os.environ[\"MODEL_PATH\"])\n"
      ],
      "metadata": {
        "colab": {
          "base_uri": "https://localhost:8080/"
        },
        "id": "TmHL75pU64v-",
        "outputId": "7e7bba67-1f66-426e-bfb1-d6d7f82a881a"
      },
      "execution_count": 3,
      "outputs": [
        {
          "output_type": "stream",
          "name": "stdout",
          "text": [
            "Using model at: /root/.cache/huggingface/hub/models--TheBloke--DeepSeek-Coder-6.7B-Instruct-GGUF/snapshots/9e221e6b41cb1bf1c5d8f9718e81e3dc781f7557/deepseek-coder-6.7b-instruct.Q4_K_M.gguf\n"
          ]
        }
      ]
    },
    {
      "cell_type": "code",
      "source": [
        "%%bash\n",
        "# 3.A1 — start server in background and log to /content/server.log\n",
        "pkill -f \"llama_cpp.server.*--port 8000\" || true\n",
        "\n",
        "nohup python -m llama_cpp.server \\\n",
        "  --model \"$MODEL_PATH\" \\\n",
        "  --host 127.0.0.1 --port 8000 \\\n",
        "  --model_alias deepseek-local \\\n",
        "  --chat_format chatml \\\n",
        "  --n_ctx 4096 \\\n",
        "  > /content/server.log 2>&1 &\n",
        "\n",
        "sleep 3\n",
        "tail -n 50 /content/server.log\n"
      ],
      "metadata": {
        "id": "fUaJ9or2PcQB"
      },
      "execution_count": 4,
      "outputs": []
    },
    {
      "cell_type": "code",
      "source": [
        "# 3.A2 — wait for server to be ready\n",
        "import time, requests, subprocess\n",
        "\n",
        "base = \"http://127.0.0.1:8000\"\n",
        "for i in range(120):  # up to ~6 minutes on CPU\n",
        "    try:\n",
        "        r = requests.get(f\"{base}/v1/models\", timeout=2)\n",
        "        if r.ok:\n",
        "            print(\"Server is ready ✅\")\n",
        "            print(r.json())\n",
        "            break\n",
        "    except Exception:\n",
        "        pass\n",
        "    if i % 5 == 0:\n",
        "        print(f\"...waiting ({i*3}s)\")\n",
        "    time.sleep(3)\n",
        "else:\n",
        "    print(\"Server not ready; last 100 log lines:\")\n",
        "    subprocess.run([\"tail\",\"-n\",\"100\",\"/content/server.log\"])\n"
      ],
      "metadata": {
        "colab": {
          "base_uri": "https://localhost:8080/"
        },
        "id": "zHQDhLW065-S",
        "outputId": "a6ba6163-99d0-4ed0-94d1-1cfb0f182103"
      },
      "execution_count": 5,
      "outputs": [
        {
          "output_type": "stream",
          "name": "stdout",
          "text": [
            "...waiting (0s)\n",
            "...waiting (15s)\n",
            "Server is ready ✅\n",
            "{'object': 'list', 'data': [{'id': 'deepseek-local', 'object': 'model', 'owned_by': 'me', 'permissions': []}]}\n"
          ]
        }
      ]
    },
    {
      "cell_type": "code",
      "source": [
        "# 3.A3 — set env for ADK/LiteLLM\n",
        "import os\n",
        "os.environ[\"OPENAI_API_BASE\"] = \"http://127.0.0.1:8000/v1\"\n",
        "os.environ[\"OPENAI_API_KEY\"]  = \"sk-local-anything\"  # dummy\n",
        "print(\"Env set. Proceed to the ADK agent + FunctionTool cell.\")\n"
      ],
      "metadata": {
        "colab": {
          "base_uri": "https://localhost:8080/"
        },
        "id": "3S2Z4OaN6zM7",
        "outputId": "d0e64881-79dc-46da-d1df-acd889692a68"
      },
      "execution_count": 6,
      "outputs": [
        {
          "output_type": "stream",
          "name": "stdout",
          "text": [
            "Env set. Proceed to the ADK agent + FunctionTool cell.\n"
          ]
        }
      ]
    },
    {
      "cell_type": "code",
      "source": [
        "import requests\n",
        "r = requests.post(\n",
        "    \"http://127.0.0.1:8000/v1/chat/completions\",\n",
        "    headers={\"Authorization\": \"Bearer sk-local-anything\"},\n",
        "    json={\n",
        "        \"model\": \"deepseek-local\",\n",
        "        \"messages\": [{\"role\":\"user\",\"content\":\"Say hello in 1 short sentence.\"}],\n",
        "        \"max_tokens\": 32,\n",
        "    },\n",
        "    timeout=30,\n",
        ")\n",
        "print(r.status_code, r.json()[\"choices\"][0][\"message\"][\"content\"])\n"
      ],
      "metadata": {
        "colab": {
          "base_uri": "https://localhost:8080/"
        },
        "id": "V9RogXZ6vdZk",
        "outputId": "378ad660-8698-426d-c9f4-bcd68ca681ee"
      },
      "execution_count": 8,
      "outputs": [
        {
          "output_type": "stream",
          "name": "stdout",
          "text": [
            "200 Hello, how can I assist you today?\n"
          ]
        }
      ]
    },
    {
      "cell_type": "code",
      "source": [
        "import os\n",
        "# LiteLLM timeouts (seconds). Keeps requests from hanging indefinitely.\n",
        "os.environ[\"LITELLM_TIMEOUT\"] = \"120\"\n",
        "os.environ[\"LITELLM_REQUEST_TIMEOUT\"] = \"120\"   # some versions read this name\n",
        "os.environ[\"LITELLM_MAX_RETRIES\"] = \"0\"         # fail fast if slow\n"
      ],
      "metadata": {
        "id": "i2o-pYD6vjIM"
      },
      "execution_count": 9,
      "outputs": []
    },
    {
      "cell_type": "code",
      "source": [],
      "metadata": {
        "id": "Mi6z-ni54BoU"
      },
      "execution_count": 15,
      "outputs": []
    },
    {
      "cell_type": "code",
      "source": [
        "from typing import Dict, Any\n",
        "\n",
        "def estimate_kitchen_budget(square_feet: int, finish_level: str) -> Dict[str, Any]:\n",
        "    finish_level = (finish_level or \"standard\").lower().strip()\n",
        "    cost_per_sf = {\"basic\": 150, \"standard\": 300, \"premium\": 600}.get(finish_level, 300)\n",
        "    base = 4000\n",
        "    estimate = base + square_feet * cost_per_sf\n",
        "    line_items = [\n",
        "        {\"item\": \"Design & Permits\", \"cost\": int(0.07 * estimate)},\n",
        "        {\"item\": \"Cabinetry & Millwork\", \"cost\": int(0.30 * estimate)},\n",
        "        {\"item\": \"Appliances\", \"cost\": int(0.18 * estimate)},\n",
        "        {\"item\": \"Counters & Backsplash\", \"cost\": int(0.15 * estimate)},\n",
        "        {\"item\": \"Plumbing & Electrical\", \"cost\": int(0.12 * estimate)},\n",
        "        {\"item\": \"Flooring/Paint/Misc.\", \"cost\": int(0.08 * estimate)},\n",
        "        {\"item\": \"Contingency\", \"cost\": int(0.10 * estimate)},\n",
        "    ]\n",
        "    return {\n",
        "        \"status\": \"success\",\n",
        "        \"estimate_usd\": int(estimate),\n",
        "        \"finish_level\": finish_level,\n",
        "        \"inputs\": {\"square_feet\": square_feet, \"finish_level\": finish_level},\n",
        "        \"line_items\": line_items,\n",
        "        \"notes\": \"Heuristic only—validate with contractor bids.\",\n",
        "    }\n",
        "\n",
        "def materials_recommender(finish_level: str) -> Dict[str, Any]:\n",
        "    finish_level = (finish_level or \"standard\").lower().strip()\n",
        "    if finish_level == \"basic\":\n",
        "        counters = \"Laminate or butcher-block\"\n",
        "        cabinets = \"Stock shaker (MDF), pre-finished\"\n",
        "        flooring = \"Vinyl plank\"\n",
        "        hardware = \"Brushed nickel, value line\"\n",
        "        note = \"Targets affordability with durable but budget materials.\"\n",
        "    elif finish_level == \"premium\":\n",
        "        counters = \"Quartzite or Dekton\"\n",
        "        cabinets = \"Custom hardwood, soft-close, full-overlay\"\n",
        "        flooring = \"Engineered oak/walnut, water-resistant finish\"\n",
        "        hardware = \"Solid brass, premium finish\"\n",
        "        note = \"High-end aesthetics and longevity; lead times may impact schedule.\"\n",
        "    else:\n",
        "        counters = \"Quartz (durable, low-maintenance)\"\n",
        "        cabinets = \"Semi-custom, plywood boxes, soft-close\"\n",
        "        flooring = \"Porcelain tile or mid-tier engineered wood\"\n",
        "        hardware = \"Matte black or satin brass\"\n",
        "        note = \"Balanced cost/quality; widely available SKUs.\"\n",
        "    return {\n",
        "        \"finish_level\": finish_level,\n",
        "        \"materials\": [\n",
        "            {\"category\": \"Countertops\", \"recommendation\": counters},\n",
        "            {\"category\": \"Cabinetry\", \"recommendation\": cabinets},\n",
        "            {\"category\": \"Flooring\", \"recommendation\": flooring},\n",
        "            {\"category\": \"Hardware\", \"recommendation\": hardware},\n",
        "        ],\n",
        "        \"note\": note,\n",
        "    }\n",
        "\n",
        "def timeline_generator(square_feet: int, finish_level: str) -> Dict[str, Any]:\n",
        "    finish_factor = {\"basic\": 0.9, \"standard\": 1.0, \"premium\": 1.2}.get((finish_level or \"standard\").lower(), 1.0)\n",
        "    base_weeks = 6.0\n",
        "    size_factor = max(0.75, min(1.35, square_feet / 180.0))\n",
        "    total_weeks = base_weeks * size_factor * finish_factor\n",
        "    design = max(0.8, round(0.20 * total_weeks, 1))\n",
        "    procurement = max(1.0, round(0.25 * total_weeks, 1))\n",
        "    build = max(2.5, round(0.55 * total_weeks, 1))\n",
        "    return {\n",
        "        \"total_weeks\": float(round(design + procurement + build, 1)),\n",
        "        \"phases\": [\n",
        "            {\"name\": \"Design & Permits\", \"duration_weeks\": design, \"milestones\": [\"Layout confirm\", \"Selections\", \"Permit submit\"]},\n",
        "            {\"name\": \"Procurement\", \"duration_weeks\": procurement, \"milestones\": [\"Cabinets order\", \"Counter template window\", \"Appliances\"]},\n",
        "            {\"name\": \"Build & Install\", \"duration_weeks\": build, \"milestones\": [\"Demo\", \"Rough-ins\", \"Cabinet set\", \"Counters\", \"Punch list\"]},\n",
        "        ],\n",
        "        \"assumptions\": [\n",
        "            \"No structural changes and no full rewire.\",\n",
        "            \"Lead times typical; expedite may change costs.\",\n",
        "        ],\n",
        "    }\n",
        "\n",
        "# quick smoke tests\n",
        "print(\"Budget sample:\", estimate_kitchen_budget(180, \"standard\")[\"estimate_usd\"])\n",
        "print(\"Materials sample:\", materials_recommender(\"standard\")[\"materials\"][0])\n",
        "print(\"Timeline sample (weeks):\", timeline_generator(180, \"standard\")[\"total_weeks\"])\n"
      ],
      "metadata": {
        "colab": {
          "base_uri": "https://localhost:8080/"
        },
        "id": "EcfMe78J713p",
        "outputId": "7196f7e0-5f49-4746-a309-5390097a19d8"
      },
      "execution_count": 16,
      "outputs": [
        {
          "output_type": "stream",
          "name": "stdout",
          "text": [
            "Budget sample: 58000\n",
            "Materials sample: {'category': 'Countertops', 'recommendation': 'Quartz (durable, low-maintenance)'}\n",
            "Timeline sample (weeks): 6.0\n"
          ]
        }
      ]
    },
    {
      "cell_type": "code",
      "source": [
        "# === ADK agent + FunctionTool + Markdown fallback (single cell) ===\n",
        "import asyncio\n",
        "from dataclasses import dataclass\n",
        "from typing import Dict, Any, List\n",
        "\n",
        "# ADK bits\n",
        "from google.adk.agents import LlmAgent\n",
        "from google.adk.runners import Runner\n",
        "from google.adk.sessions import InMemorySessionService\n",
        "from google.adk.tools import FunctionTool\n",
        "from google.genai import types\n",
        "\n",
        "# Route ADK → your local OpenAI-compatible server via LiteLLM\n",
        "from google.adk.models.lite_llm import LiteLlm\n",
        "\n",
        "# ---------- Simple Function Tool ----------\n",
        "@dataclass\n",
        "class BudgetInput:\n",
        "    square_feet: int\n",
        "    finish_level: str  # \"basic\" | \"standard\" | \"premium\"\n",
        "\n",
        "def estimate_kitchen_budget(square_feet: int, finish_level: str) -> Dict[str, Any]:\n",
        "    finish_level = (finish_level or \"standard\").lower().strip()\n",
        "    cost_per_sf = {\"basic\": 150, \"standard\": 300, \"premium\": 600}.get(finish_level, 300)\n",
        "    base = 4000\n",
        "    estimate = base + square_feet * cost_per_sf\n",
        "    line_items = [\n",
        "        {\"item\": \"Design & Permits\", \"cost\": int(0.07 * estimate)},\n",
        "        {\"item\": \"Cabinetry & Millwork\", \"cost\": int(0.30 * estimate)},\n",
        "        {\"item\": \"Appliances\", \"cost\": int(0.18 * estimate)},\n",
        "        {\"item\": \"Counters & Backsplash\", \"cost\": int(0.15 * estimate)},\n",
        "        {\"item\": \"Plumbing & Electrical\", \"cost\": int(0.12 * estimate)},\n",
        "        {\"item\": \"Flooring/Paint/Misc.\", \"cost\": int(0.08 * estimate)},\n",
        "        {\"item\": \"Contingency\", \"cost\": int(0.10 * estimate)},\n",
        "    ]\n",
        "    return {\n",
        "        \"status\": \"success\",\n",
        "        \"estimate_usd\": int(estimate),\n",
        "        \"finish_level\": finish_level,\n",
        "        \"inputs\": {\"square_feet\": square_feet, \"finish_level\": finish_level},\n",
        "        \"line_items\": line_items,\n",
        "        \"notes\": \"Heuristic only—validate with contractor bids.\",\n",
        "    }\n",
        "\n",
        "budget_tool = FunctionTool(func=estimate_kitchen_budget)\n",
        "\n",
        "# ---------- LLM + Agent ----------\n",
        "local_model = LiteLlm(model=\"openai/deepseek-local\")\n",
        "\n",
        "kitchen_agent = LlmAgent(\n",
        "    model=local_model,\n",
        "    name=\"kitchen_renovation_agent\",\n",
        "    description=\"Creates a concise kitchen renovation proposal and uses a budget estimator tool.\",\n",
        "    instruction=(\n",
        "        \"You are a renovation consultant. Produce a 1-page proposal with sections:\\n\"\n",
        "        \"1) Scope overview; 2) Design concept; 3) Materials (bullets);\\n\"\n",
        "        \"4) Timeline (phases); 5) Budget summary; 6) Disclaimers.\\n\"\n",
        "        \"Always call the tool `estimate_kitchen_budget(square_feet, finish_level)` to compute the budget.\\n\"\n",
        "        \"If the tool returns 'status: success', include total and line items.\\n\"\n",
        "        \"Write clear, structured Markdown. Be practical and specific.\"\n",
        "    ),\n",
        "    tools=[budget_tool],\n",
        ")\n",
        "\n",
        "APP_NAME = \"adk_kitchen_agent_demo\"\n",
        "USER_ID = \"student\"\n",
        "SESSION_ID = \"session-001\"\n",
        "\n",
        "# ---------- Fallback synthesizer (guaranteed Markdown) ----------\n",
        "def synthesize_markdown(square_feet: int, finish_level: str, notes: str) -> str:\n",
        "    b = estimate_kitchen_budget(square_feet, finish_level)\n",
        "    line_items_md = \"\\n\".join(f\"- {li['item']}: ${li['cost']}\" for li in b[\"line_items\"])\n",
        "    scope = f\"Renovate existing kitchen; retain layout if feasible; {notes or 'island seating for 3; quartz counters.'}\"\n",
        "    return (\n",
        "f\"# Kitchen Renovation Proposal — {square_feet} sq ft ({b['finish_level']})\\n\\n\"\n",
        "f\"## 1) Scope Overview\\n- {scope}\\n\\n\"\n",
        "\"## 2) Design Concept\\n- Clean, functional, durable finishes; good task lighting; cohesive hardware.\\n\\n\"\n",
        "\"## 3) Materials\\n\"\n",
        "\"- Quartz counters; semi-custom cabinets (soft-close); mid-tier flooring; matte black or satin brass hardware.\\n\\n\"\n",
        "\"## 4) Timeline\\n\"\n",
        "\"- Design & Permits: ~1–2 weeks\\n\"\n",
        "\"- Procurement: ~2–3 weeks\\n\"\n",
        "\"- Build & Install: ~3–4 weeks\\n\\n\"\n",
        "f\"## 5) Budget Summary (USD)\\n- Estimated total: **${b['estimate_usd']}**\\n{line_items_md}\\n\\n\"\n",
        "\"## 6) Assumptions & Disclaimers\\n\"\n",
        "\"- No structural changes or full rewire assumed.\\n\"\n",
        "\"- Quotes are heuristic; validate with contractor bids and current lead times.\\n\"\n",
        "    )\n",
        "\n",
        "# ---------- Helper: detect refusal/weak responses ----------\n",
        "REFUSAL_MARKERS = [\n",
        "    \"i'm sorry\", \"i am sorry\", \"i cannot\", \"i can’t\", \"i can't\",\n",
        "    \"do not have the capability\", \"as an ai model\", \"unable to\", \"cannot generate\",\n",
        "    \"do not have access to real-time\", \"don't have access to real-time\"\n",
        "]\n",
        "\n",
        "def looks_like_refusal(text: str) -> bool:\n",
        "    t = (text or \"\").lower()\n",
        "    if not t.strip():\n",
        "        return True\n",
        "    if any(m in t for m in REFUSAL_MARKERS):\n",
        "        return True\n",
        "    # Too short or missing key sections\n",
        "    needed = [\"scope\", \"design concept\", \"materials\", \"timeline\", \"budget\", \"assumptions\"]\n",
        "    miss = sum(1 for k in needed if k not in t)\n",
        "    return miss >= 3  # missing most sections\n",
        "\n",
        "# ---------- Runner (single turn) with fallback ----------\n",
        "async def call_agent_with_fallback(square_feet: int, finish_level: str, notes: str) -> str:\n",
        "    session_service = InMemorySessionService()\n",
        "    await session_service.create_session(app_name=APP_NAME, user_id=USER_ID, session_id=SESSION_ID)\n",
        "    runner = Runner(agent=kitchen_agent, app_name=APP_NAME, session_service=session_service)\n",
        "\n",
        "    # User prompt the agent sees (it should call the tool itself)\n",
        "    user_prompt = (\n",
        "        f\"Create a kitchen renovation proposal.\\n\"\n",
        "        f\"- square_feet: {square_feet}\\n- finish_level: {finish_level}\\n- notes: {notes}\\n\"\n",
        "        f\"- target_budget: under $45k if feasible\\n\"\n",
        "        \"Follow the required sections and ALWAYS call the budget tool.\"\n",
        "    )\n",
        "    content = types.Content(role=\"user\", parts=[types.Part(text=user_prompt)])\n",
        "\n",
        "    final_text = None\n",
        "\n",
        "    def extract_text(content_obj):\n",
        "        try:\n",
        "            if content_obj and getattr(content_obj, \"parts\", None):\n",
        "                for p in content_obj.parts:\n",
        "                    t = getattr(p, \"text\", None)\n",
        "                    if t:\n",
        "                        return t\n",
        "        except Exception:\n",
        "            pass\n",
        "        return None\n",
        "\n",
        "    for event in runner.run(user_id=USER_ID, session_id=SESSION_ID, new_message=content):\n",
        "        # Optional: debug print tool calls\n",
        "        tool_name = getattr(event, \"tool_name\", None)\n",
        "        parameters = getattr(event, \"parameters\", None)\n",
        "        if tool_name and parameters is not None:\n",
        "            print(\"→ Tool request:\", tool_name, parameters)\n",
        "\n",
        "        tool_resp = getattr(event, \"tool_response\", None)\n",
        "        if tool_resp is not None:\n",
        "            print(\"← Tool response (obj):\", str(tool_resp)[:180], \"...\")\n",
        "        else:\n",
        "            txt = extract_text(getattr(event, \"content\", None))\n",
        "            if txt and (\"estimate_usd\" in txt or \"line_items\" in txt or \"status\" in txt):\n",
        "                print(\"← Tool response (preview):\", txt[:180], \"...\")\n",
        "\n",
        "        # Capture assistant text as it streams\n",
        "        txt = extract_text(getattr(event, \"content\", None))\n",
        "        if txt:\n",
        "            final_text = txt\n",
        "\n",
        "    # Fallback if refusal/weak\n",
        "    if looks_like_refusal(final_text):\n",
        "        print(\"\\n[Fallback] Synthesizing Markdown locally…\")\n",
        "        final_text = synthesize_markdown(square_feet, finish_level, notes)\n",
        "\n",
        "    print(\"\\n===== Final Proposal =====\\n\")\n",
        "    print(final_text)\n",
        "    return final_text\n",
        "\n",
        "# ----- Run once (Colab supports top-level await) -----\n",
        "final_md = await call_agent_with_fallback(\n",
        "    square_feet=180,\n",
        "    finish_level=\"standard\",\n",
        "    notes=\"Island seating for 3; durable quartz; keep existing layout if possible.\"\n",
        ")\n"
      ],
      "metadata": {
        "colab": {
          "base_uri": "https://localhost:8080/"
        },
        "id": "B0bkJfdm8n1H",
        "outputId": "38bc1652-6e5f-4d31-a011-71a6fd89627a"
      },
      "execution_count": 18,
      "outputs": [
        {
          "output_type": "stream",
          "name": "stdout",
          "text": [
            "\n",
            "[Fallback] Synthesizing Markdown locally…\n",
            "\n",
            "===== Final Proposal =====\n",
            "\n",
            "# Kitchen Renovation Proposal — 180 sq ft (standard)\n",
            "\n",
            "## 1) Scope Overview\n",
            "- Renovate existing kitchen; retain layout if feasible; Island seating for 3; durable quartz; keep existing layout if possible.\n",
            "\n",
            "## 2) Design Concept\n",
            "- Clean, functional, durable finishes; good task lighting; cohesive hardware.\n",
            "\n",
            "## 3) Materials\n",
            "- Quartz counters; semi-custom cabinets (soft-close); mid-tier flooring; matte black or satin brass hardware.\n",
            "\n",
            "## 4) Timeline\n",
            "- Design & Permits: ~1–2 weeks\n",
            "- Procurement: ~2–3 weeks\n",
            "- Build & Install: ~3–4 weeks\n",
            "\n",
            "## 5) Budget Summary (USD)\n",
            "- Estimated total: **$58000**\n",
            "- Design & Permits: $4060\n",
            "- Cabinetry & Millwork: $17400\n",
            "- Appliances: $10440\n",
            "- Counters & Backsplash: $8700\n",
            "- Plumbing & Electrical: $6960\n",
            "- Flooring/Paint/Misc.: $4640\n",
            "- Contingency: $5800\n",
            "\n",
            "## 6) Assumptions & Disclaimers\n",
            "- No structural changes or full rewire assumed.\n",
            "- Quotes are heuristic; validate with contractor bids and current lead times.\n",
            "\n"
          ]
        }
      ]
    }
  ]
}